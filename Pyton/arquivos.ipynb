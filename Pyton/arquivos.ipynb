{
 "metadata": {
  "language_info": {
   "codemirror_mode": {
    "name": "ipython",
    "version": 3
   },
   "file_extension": ".py",
   "mimetype": "text/x-python",
   "name": "python",
   "nbconvert_exporter": "python",
   "pygments_lexer": "ipython3",
   "version": "3.8.3-final"
  },
  "orig_nbformat": 2,
  "kernelspec": {
   "name": "python3",
   "display_name": "Python 3.8.3 64-bit (conda)",
   "metadata": {
    "interpreter": {
     "hash": "a8f61be024eba58adef938c9aa1e29e02cb3dece83a5348b1a2dafd16a070453"
    }
   }
  }
 },
 "nbformat": 4,
 "nbformat_minor": 2,
 "cells": [
  {
   "cell_type": "code",
   "execution_count": 1,
   "metadata": {},
   "outputs": [
    {
     "output_type": "stream",
     "name": "stdout",
     "text": [
      "['Argentina\\n', 'Brasil\\n', 'México\\n', 'Paraguai\\n']\nBrasil\n\n"
     ]
    }
   ],
   "source": [
    "#criação de um novo arquivo\n",
    "f = open('paises.txt', 'w')\n",
    "f.write('Argentina\\n')\n",
    "f.write('Brasil\\n')\n",
    "f.write('México\\n')\n",
    "f.write('Paraguai\\n')\n",
    "f.close()\n",
    "\n",
    "#leitura de todas as linhas do arquivo\n",
    "f = open('paises.txt','r')\n",
    "#linhas = f.read()\n",
    "#print(linhas)\n",
    "#f.close()\n",
    "\n",
    "#leitura da primeira linha do arquivo\n",
    "#linha = f.readline()\n",
    "#print(linha)\n",
    "#f.close()\n",
    "\n",
    "#leitura de todas as linhas na forma de uma lista\n",
    "linhas = f.readlines()\n",
    "print(linhas)\n",
    "print(linhas[1])\n",
    "f.close()"
   ]
  },
  {
   "cell_type": "code",
   "execution_count": null,
   "metadata": {},
   "outputs": [],
   "source": []
  }
 ]
}