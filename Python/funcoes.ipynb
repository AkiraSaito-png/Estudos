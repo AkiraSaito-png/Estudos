{
 "metadata": {
  "language_info": {
   "codemirror_mode": {
    "name": "ipython",
    "version": 3
   },
   "file_extension": ".py",
   "mimetype": "text/x-python",
   "name": "python",
   "nbconvert_exporter": "python",
   "pygments_lexer": "ipython3",
   "version": "3.8.3-final"
  },
  "orig_nbformat": 2,
  "kernelspec": {
   "name": "python3",
   "display_name": "Python 3.8.3 64-bit (virtualenv)",
   "metadata": {
    "interpreter": {
     "hash": "a8f61be024eba58adef938c9aa1e29e02cb3dece83a5348b1a2dafd16a070453"
    }
   }
  }
 },
 "nbformat": 4,
 "nbformat_minor": 2,
 "cells": [
  {
   "cell_type": "code",
   "execution_count": 2,
   "metadata": {},
   "outputs": [
    {
     "output_type": "stream",
     "name": "stdout",
     "text": [
      "5\n"
     ]
    }
   ],
   "source": [
    "def soma(a, b):\n",
    "    return a+b\n",
    "\n",
    "def ler_numero():\n",
    "    return int(input('Informe um número: '))\n",
    "\n",
    "n1 = ler_numero()\n",
    "n2 = ler_numero()\n",
    "print(soma(n1,n2))"
   ]
  },
  {
   "cell_type": "code",
   "execution_count": 11,
   "metadata": {},
   "outputs": [
    {
     "output_type": "stream",
     "name": "stdout",
     "text": [
      "1\n2\n3\n4\n"
     ]
    }
   ],
   "source": [
    "def exibir_intervalo(ini = 0, fim = 10, passo = 1):\n",
    "    for elem in range (ini, fim, passo):\n",
    "        print(elem)\n",
    "\n",
    "\n",
    "exibir_intervalo(1, 5, 1)\n",
    "\n",
    "\n",
    "# exibir_intervalo()\n",
    "\n",
    "\n",
    "# exibir_intervalo(passo=2, fim=21)"
   ]
  },
  {
   "cell_type": "code",
   "execution_count": 9,
   "metadata": {},
   "outputs": [
    {
     "output_type": "stream",
     "name": "stdout",
     "text": [
      "1\n2\n3\n4\n5\n5\n10\n15\n20\n"
     ]
    }
   ],
   "source": [
    "def exibir_valores(*valores):\n",
    "  for valor in valores:\n",
    "    print(valor)\n",
    "\n",
    "exibir_valores()\n",
    "exibir_valores(1)\n",
    "exibir_valores(1,2,3,4,5)\n",
    "exibir_valores(10,20)"
   ]
  },
  {
   "cell_type": "code",
   "execution_count": null,
   "metadata": {},
   "outputs": [],
   "source": []
  }
 ]
}