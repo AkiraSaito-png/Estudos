{
 "metadata": {
  "language_info": {
   "codemirror_mode": {
    "name": "ipython",
    "version": 3
   },
   "file_extension": ".py",
   "mimetype": "text/x-python",
   "name": "python",
   "nbconvert_exporter": "python",
   "pygments_lexer": "ipython3",
   "version": "3.8.3-final"
  },
  "orig_nbformat": 2,
  "kernelspec": {
   "name": "python3",
   "display_name": "Python 3.8.3 64-bit (conda)",
   "metadata": {
    "interpreter": {
     "hash": "a8f61be024eba58adef938c9aa1e29e02cb3dece83a5348b1a2dafd16a070453"
    }
   }
  }
 },
 "nbformat": 4,
 "nbformat_minor": 2,
 "cells": [
  {
   "cell_type": "code",
   "execution_count": 1,
   "metadata": {},
   "outputs": [
    {
     "output_type": "stream",
     "name": "stdout",
     "text": [
      "[0 1 2 3 4 5 6 7 8 9]\n1\n10\nint32\n5\n[1 2 3]\n[0 2 4 6 8]\n[6 7 8 9]\n9\n45\n45\n0\n9\n4.5\n2.8722813232690143\n"
     ]
    }
   ],
   "source": [
    "#Arrays 1D\n",
    "\n",
    "import numpy as np\n",
    "\n",
    "# declaração de um array (vetor)\n",
    "vet = np.array([0,1,2,3,4,5,6,7,8,9])\n",
    "print(vet)\n",
    "\n",
    "#propriedades\n",
    "print(vet.ndim)\n",
    "print(vet.size)\n",
    "print(vet.dtype.name)\n",
    "\n",
    "#indexação\n",
    "print(vet[5])         #elemento do índice 5\n",
    "print(vet[1:4])       #elementos do índice 1 até o índice < 4\n",
    "print(vet[0:10:2])    #elementos do índice 0 até 10 de 2 em 2\n",
    "print(vet[6:])        #elementos do índice 6 até o final\n",
    "print(vet[-1])        #último elemento do vetor\n",
    "\n",
    "#funções básicas\n",
    "print(vet.sum())\n",
    "print(np.sum(vet))\n",
    "print(vet.min())      # menor valor\n",
    "print(vet.max())      # maior valor\n",
    "print(vet.mean())     # média\n",
    "print(vet.std())      # desvio padrão\n"
   ]
  },
  {
   "cell_type": "code",
   "execution_count": null,
   "metadata": {},
   "outputs": [],
   "source": [
    "import numpy as networkx.ipynb\n",
    "mat = np.zeros((5,5), dtype = nb.float)\n",
    "\n",
    "mat = np.ones((3,5), dtype = np.int)*-1\n",
    "\n",
    "mat = np.arange(0,100,5)\n",
    "mat = mat.reshape(4,5)\n",
    "\n",
    "mat = np.linspace(0.0,1.0,20)\n",
    "\n",
    "mat = np.random.rand(5,5)\n",
    "\n",
    "mat = np.random.randint(1, 61, size = 6)\n",
    "\n",
    "mat = np.random.randint(1, 100, size=(5,5))\n",
    "\n",
    "m1 = np.arange(9).reshape(3,3)\n",
    "m2 = np.linspace(1, 20, 9).reshape(3,3)\n",
    "print(m1)\n",
    "print(m2)\n",
    "\n",
    "m3 = m1 + m2\n",
    "m3 = m1 - m2\n",
    "m3 = m1 * 5"
   ]
  }
 ]
}